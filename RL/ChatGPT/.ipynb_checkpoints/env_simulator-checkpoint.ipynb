{
 "cells": [
  {
   "cell_type": "code",
   "execution_count": null,
   "id": "fcea3ea2",
   "metadata": {},
   "outputs": [],
   "source": [
    "import torch as th\n",
    "import torch.nn as nn"
   ]
  },
  {
   "cell_type": "code",
   "execution_count": null,
   "id": "2e1d4ce1",
   "metadata": {},
   "outputs": [],
   "source": [
    "class EnvSimulator(nn.Module):\n",
    "    def __init__(self, observation_space, action_space):\n",
    "        super(EnvSimulator, self).__init__()\n",
    "        self.l1 = nn.Linear(observation_space + action_space, 16)\n",
    "        self.l2 = nn.Linear(16, 1 + observation_space)\n",
    "\n",
    "    def forward(self, x):\n",
    "        x = nn.functional.relu(self.l1(x))\n",
    "        return self.l2(x)"
   ]
  }
 ],
 "metadata": {
  "kernelspec": {
   "display_name": "Python 3 (ipykernel)",
   "language": "python",
   "name": "python3"
  },
  "language_info": {
   "codemirror_mode": {
    "name": "ipython",
    "version": 3
   },
   "file_extension": ".py",
   "mimetype": "text/x-python",
   "name": "python",
   "nbconvert_exporter": "python",
   "pygments_lexer": "ipython3",
   "version": "3.7.13"
  }
 },
 "nbformat": 4,
 "nbformat_minor": 5
}
