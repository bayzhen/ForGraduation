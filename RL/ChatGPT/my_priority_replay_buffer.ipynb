{
 "cells": [
  {
   "cell_type": "code",
   "execution_count": 7,
   "id": "b2112eeb",
   "metadata": {},
   "outputs": [],
   "source": [
    "import gymnasium as gym\n",
    "import matplotlib.pyplot as plt\n",
    "from stable_baselines3 import DQN\n",
    "from stable_baselines3.common.callbacks import CallbackList"
   ]
  },
  {
   "cell_type": "code",
   "execution_count": 6,
   "id": "5ef610f0",
   "metadata": {},
   "outputs": [],
   "source": [
    "from stable_baselines3.common.buffers import ReplayBuffer"
   ]
  },
  {
   "cell_type": "markdown",
   "id": "0c6e552c",
   "metadata": {},
   "source": [
    "也许我该override的不是replay buffer，而是算法本身。也许我应该去改DQN  \n",
    "下面这样应该是不合理的。"
   ]
  },
  {
   "cell_type": "code",
   "execution_count": null,
   "id": "7ed26682",
   "metadata": {},
   "outputs": [],
   "source": [
    "class PriorityReplayBuffer(ReplayBuffer):\n",
    "    def __init__(\n",
    "    self,\n",
    "    buffer_size: int,\n",
    "    observation_space: spaces.Space,\n",
    "    action_space: spaces.Space,\n",
    "    device: Union[th.device, str] = \"cpu\",\n",
    "    n_envs: int = 1,\n",
    "    optimize_memory_usage: bool = False,\n",
    "    handle_timeout_termination: bool = True\n",
    "    ):\n",
    "    super(PriorityReplayBuffer, self).__init__(buffer_size, \n",
    "                                               observation_space, \n",
    "                                               action_space, \n",
    "                                               device, \n",
    "                                               n_envs=n_envs,\n",
    "                                               optimize_memory_usage,\n",
    "                                               handle_timeout_termination)\n",
    "        \n",
    "        self.observation_action_values = np.zeros((self.buffer_size, self.n_envs), dtype=np.float32)\n",
    "        self.td_errors = np.zeros((self.buffer_size, self.n_envs), dtype=np.float32)\n",
    "    \n",
    "    def update_td_errors():\n",
    "        \n",
    "        if self.full:\n",
    "            pos = self.buffer_size-1\n",
    "        else:\n",
    "            pos = self.pos\n",
    "        while pos>0:\n",
    "            pos-=1\n",
    "            if self.dones == true:\n",
    "                self.td_error\n",
    "            \n",
    "    \n",
    "    def sample(self, batch_size: int, env: Optional[VecNormalize] = None) -> ReplayBufferSamples:\n",
    "        pass"
   ]
  },
  {
   "cell_type": "code",
   "execution_count": null,
   "id": "3fa40b00",
   "metadata": {},
   "outputs": [],
   "source": [
    "if __name__ == \"__main__\":\n",
    "    # Define the environment and the model\n",
    "    env = gym.make('CartPole-v1')\n",
    "    model = DQN('MlpPolicy', env, prioritized_replay=True)\n",
    "\n",
    "    # Create a list of callbacks to track the distribution of priorities\n",
    "    dist_callback = PriorityDistributionTracker()\n",
    "    callbacks = CallbackList([dist_callback])\n",
    "\n",
    "    # Train the model and track the distribution of priorities\n",
    "    model.learn(total_timesteps=1000, callback=callbacks)\n",
    "\n",
    "    # Print the distribution of priorities\n",
    "    dist = dist_callback.get_distribution()\n",
    "    print(dist)\n",
    "\n",
    "    # Plot the distribution using matplotlib\n",
    "    plt.plot(dist)\n",
    "    plt.show()"
   ]
  }
 ],
 "metadata": {
  "kernelspec": {
   "display_name": "Python 3 (ipykernel)",
   "language": "python",
   "name": "python3"
  },
  "language_info": {
   "codemirror_mode": {
    "name": "ipython",
    "version": 3
   },
   "file_extension": ".py",
   "mimetype": "text/x-python",
   "name": "python",
   "nbconvert_exporter": "python",
   "pygments_lexer": "ipython3",
   "version": "3.7.13"
  }
 },
 "nbformat": 4,
 "nbformat_minor": 5
}
