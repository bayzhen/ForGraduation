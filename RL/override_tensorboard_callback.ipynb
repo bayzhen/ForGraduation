{
 "cells": [
  {
   "cell_type": "code",
   "execution_count": null,
   "id": "e4c3cb78",
   "metadata": {},
   "outputs": [],
   "source": [
    "import gym\n",
    "import numpy as np\n",
    "from stable_baselines3 import DQN, PPO, DDPG\n",
    "from stable_baselines3.common.callbacks import BaseCallback"
   ]
  },
  {
   "cell_type": "markdown",
   "id": "13e5b619",
   "metadata": {},
   "source": [
    "callback重写\n",
    "记录随机数和步数"
   ]
  },
  {
   "cell_type": "code",
   "execution_count": null,
   "id": "78662036",
   "metadata": {},
   "outputs": [],
   "source": [
    "# 尝试callback\n",
    "class TensorboardCallback(BaseCallback):\n",
    "    \"\"\"\n",
    "    Custom callback for plotting additional values in tensorboard.\n",
    "    \"\"\"\n",
    "\n",
    "    def __init__(self, verbose=0):\n",
    "        super(TensorboardCallback, self).__init__(verbose)\n",
    "\n",
    "    def _on_step(self) -> bool:\n",
    "        # Log scalar value (here a random variable)\n",
    "        value = np.random.random()\n",
    "        self.logger.record(\"random_value\", value)\n",
    "        self.logger.dump(self.num_timesteps)\n",
    "        return True"
   ]
  },
  {
   "cell_type": "code",
   "execution_count": null,
   "id": "22c181f3",
   "metadata": {},
   "outputs": [],
   "source": [
    "env = gym.make(\"LunarLander-v2\")\n",
    "\n",
    "model = DQN(\"MlpPolicy\", env, verbose=1, tensorboard_log='./DQN/')\n",
    "model.learn(total_timesteps=10000, log_interval=4, callback=TensorboardCallback())\n",
    "model.save(\"model/dqn_lunar_lander_v2\")\n",
    "\n",
    "del model  # remove to demonstrate saving and loading\n",
    "print(\"finished\")"
   ]
  }
 ],
 "metadata": {
  "kernelspec": {
   "display_name": "Python 3 (ipykernel)",
   "language": "python",
   "name": "python3"
  },
  "language_info": {
   "codemirror_mode": {
    "name": "ipython",
    "version": 3
   },
   "file_extension": ".py",
   "mimetype": "text/x-python",
   "name": "python",
   "nbconvert_exporter": "python",
   "pygments_lexer": "ipython3",
   "version": "3.7.13"
  }
 },
 "nbformat": 4,
 "nbformat_minor": 5
}
