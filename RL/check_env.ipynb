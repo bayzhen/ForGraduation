{
 "cells": [
  {
   "cell_type": "markdown",
   "id": "c50a94a3",
   "metadata": {},
   "source": [
    "检测环境用"
   ]
  },
  {
   "cell_type": "code",
   "execution_count": 2,
   "id": "35ea5b9f",
   "metadata": {},
   "outputs": [],
   "source": [
    "from stable_baselines3.common.env_checker import check_env\n",
    "from maze import Maze"
   ]
  },
  {
   "cell_type": "code",
   "execution_count": 3,
   "id": "f982b4a1",
   "metadata": {},
   "outputs": [
    {
     "name": "stdout",
     "output_type": "stream",
     "text": [
      "None\n"
     ]
    }
   ],
   "source": [
    "env = Maze(use_image=False)\n",
    "print(check_env(env))"
   ]
  },
  {
   "cell_type": "code",
   "execution_count": null,
   "outputs": [],
   "source": [],
   "metadata": {
    "collapsed": false
   }
  }
 ],
 "metadata": {
  "kernelspec": {
   "display_name": "Python 3 (ipykernel)",
   "language": "python",
   "name": "python3"
  },
  "language_info": {
   "codemirror_mode": {
    "name": "ipython",
    "version": 3
   },
   "file_extension": ".py",
   "mimetype": "text/x-python",
   "name": "python",
   "nbconvert_exporter": "python",
   "pygments_lexer": "ipython3",
   "version": "3.7.13"
  }
 },
 "nbformat": 4,
 "nbformat_minor": 5
}
