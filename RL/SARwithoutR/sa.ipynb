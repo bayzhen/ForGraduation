{
 "cells": [
  {
   "cell_type": "code",
   "execution_count": null,
   "id": "343cde44",
   "metadata": {},
   "outputs": [],
   "source": [
    "import torch\n",
    "\n",
    "from shortest_distance_predicter import SDP\n",
    "from RL.maze import Maze\n",
    "import gym\n",
    "import numpy as np"
   ]
  },
  {
   "cell_type": "code",
   "execution_count": null,
   "id": "541af25f",
   "metadata": {},
   "outputs": [],
   "source": [
    "class SA:\n",
    "    def __init__(self, env: gym.Env, goal_state):\n",
    "        self.env = env\n",
    "        self.goal_state = goal_state\n",
    "        state_size = env.observation_space.shape[0]\n",
    "        action_size = 1\n",
    "        distance_size = 1\n",
    "        self.SDP = SDP(state_size * 2, 32, 32, distance_size)\n",
    "        self.replay_buffer = ReplayBuffer(1000,model=self.SDP)\n",
    "        self.epsilon = 0.7\n",
    "\n",
    "    def train(self, trajectory: list):\n",
    "        for i in range(len(trajectory) - 1):\n",
    "            data = trajectory[i]\n",
    "            state = data[0]\n",
    "            action = data[1]\n",
    "            next_state = data[i + 1][0]\n",
    "            n = 0\n",
    "            self.SDP.train(state, next_state, action, n)\n",
    "\n",
    "    def learn(self, total_timesteps):\n",
    "        state = self.env.reset()\n",
    "        for _ in range(total_timesteps):\n",
    "            steps = self.SDP.predict(state, self.goal_state)\n",
    "            best_action = np.argmax(steps, axis=0)\n",
    "            action = np.random.choice([best_action, 0, 1], size=1,\n",
    "                                      p=[self.epsilon, (1 - self.epsilon) / 2, (1 - self.epsilon) / 2])\n",
    "            action = int(action[0])\n",
    "            next_state, reward, done, info = self.env.step(action)\n",
    "            self.replay_buffer.add(state, action, reward, done, next_state)\n",
    "            state = next_state\n",
    "            if done:\n",
    "                action = -1\n",
    "                trajectory = []\n",
    "                state = self.env.reset()\n",
    "        print(1)"
   ]
  },
  {
   "cell_type": "code",
   "execution_count": null,
   "id": "ffecc9c7",
   "metadata": {},
   "outputs": [],
   "source": [
    "if __name__ == '__main__':\n",
    "    game_env = Maze(use_image=False, is_random=False)\n",
    "    game_env = gym.make('CartPole-v0')\n",
    "    goal_state = np.array([0, 0, 0, 0], float)\n",
    "    # Create the DQN model using a CNN policy and the PriorityReplayBuffer instance\n",
    "    model = SA(env=game_env, goal_state=goal_state)\n",
    "\n",
    "    # Train the model for 1000 steps, using the replay buffer to store experiences\n",
    "    model.learn(total_timesteps=1000)"
   ]
  }
 ],
 "metadata": {
  "kernelspec": {
   "display_name": "Python 3 (ipykernel)",
   "language": "python",
   "name": "python3"
  },
  "language_info": {
   "codemirror_mode": {
    "name": "ipython",
    "version": 3
   },
   "file_extension": ".py",
   "mimetype": "text/x-python",
   "name": "python",
   "nbconvert_exporter": "python",
   "pygments_lexer": "ipython3",
   "version": "3.7.13"
  }
 },
 "nbformat": 4,
 "nbformat_minor": 5
}
