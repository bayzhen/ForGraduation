{
 "cells": [
  {
   "cell_type": "code",
   "execution_count": null,
   "id": "46f07364",
   "metadata": {},
   "outputs": [],
   "source": [
    "import torch\n",
    "import torch.nn as nn\n",
    "import numpy as np"
   ]
  },
  {
   "cell_type": "code",
   "execution_count": null,
   "id": "60f95800",
   "metadata": {},
   "outputs": [],
   "source": [
    "class Network(nn.Module):\n",
    "    def __init__(self, input_size, hidden_size1, hidden_size2, output_size):\n",
    "        super().__init__()\n",
    "        self.fc1 = nn.Linear(input_size, hidden_size1)\n",
    "        self.fc2 = nn.Linear(hidden_size1, hidden_size2)\n",
    "        self.fc3 = nn.Linear(hidden_size2, output_size)\n",
    "        self.relu = nn.ReLU()\n",
    "\n",
    "    def forward(self, x):\n",
    "        x = self.fc1(x)\n",
    "        x = self.relu(x)\n",
    "        x = self.fc2(x)\n",
    "        x = self.relu(x)\n",
    "        x = self.fc3(x)\n",
    "        x = self.relu(x)\n",
    "        return x"
   ]
  },
  {
   "cell_type": "code",
   "execution_count": null,
   "id": "dcfa4f08",
   "metadata": {},
   "outputs": [],
   "source": [
    "class SDP:\n",
    "    def __init__(self, input_size, hidden_size1, hidden_size2, output_size):\n",
    "        self.model = Network(input_size, hidden_size1, hidden_size2, output_size)\n",
    "        self.loss_fn = nn.MSELoss()\n",
    "        self.optimizer = torch.optim.SGD(self.model.parameters(), lr=0.001)\n",
    "\n",
    "    def train(self, state, goal_state, action, n):\n",
    "        input_data = np.concatenate((state, goal_state))\n",
    "        input_data = torch.tensor(input_data).to(torch.float32)\n",
    "\n",
    "        # Forward pass\n",
    "        output = self.model(input_data)\n",
    "\n",
    "        # Compute the loss\n",
    "        loss = self.loss_fn(output, n)\n",
    "\n",
    "        # Backward pass\n",
    "        loss.backward()\n",
    "\n",
    "        # Optimize the model parameters\n",
    "        self.optimizer.step()\n",
    "\n",
    "    def predict(self, state, goal_state):\n",
    "        input_data = np.concatenate((state, goal_state))\n",
    "        input_data = torch.tensor(input_data).to(torch.float32)\n",
    "        # Forward pass\n",
    "        output = self.model(input_data)\n",
    "        return output"
   ]
  }
 ],
 "metadata": {
  "kernelspec": {
   "display_name": "Python 3 (ipykernel)",
   "language": "python",
   "name": "python3"
  },
  "language_info": {
   "codemirror_mode": {
    "name": "ipython",
    "version": 3
   },
   "file_extension": ".py",
   "mimetype": "text/x-python",
   "name": "python",
   "nbconvert_exporter": "python",
   "pygments_lexer": "ipython3",
   "version": "3.7.13"
  }
 },
 "nbformat": 4,
 "nbformat_minor": 5
}
